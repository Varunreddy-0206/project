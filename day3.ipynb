{
 "cells": [
  {
   "cell_type": "code",
   "execution_count": 2,
   "metadata": {},
   "outputs": [
    {
     "name": "stdout",
     "output_type": "stream",
     "text": [
      "square\n",
      "100\n"
     ]
    }
   ],
   "source": [
    "length=10\n",
    "width=10\n",
    "area=length*width\n",
    "if length==width:\n",
    "    print(\"square\")\n",
    "    print(area)\n",
    "else:print(\"rectangle\")\n",
    "    "
   ]
  },
  {
   "cell_type": "code",
   "execution_count": 6,
   "metadata": {},
   "outputs": [
    {
     "name": "stdout",
     "output_type": "stream",
     "text": [
      "150\n"
     ]
    }
   ],
   "source": [
    "num=[10,20,30,40,50]\n",
    "sum=0\n",
    "for n in num:\n",
    "    sum =sum + n\n",
    "    \n",
    "print(sum)"
   ]
  },
  {
   "cell_type": "code",
   "execution_count": 21,
   "metadata": {},
   "outputs": [
    {
     "name": "stdout",
     "output_type": "stream",
     "text": [
      "o\n",
      "i\n",
      "e\n",
      "a\n",
      "o\n",
      "e\n",
      "a\n"
     ]
    }
   ],
   "source": [
    "chars = \"Python is easy to learn\"\n",
    "vowel = \"aeiou\"\n",
    "for val in chars:\n",
    "    if (val in vowel):\n",
    "        print(val)\n"
   ]
  },
  {
   "cell_type": "code",
   "execution_count": 25,
   "metadata": {},
   "outputs": [
    {
     "name": "stdout",
     "output_type": "stream",
     "text": [
      "100\n",
      "150\n"
     ]
    }
   ],
   "source": [
    "\n",
    "nums = [100,45,12,74,90,150,4,2,1]\n",
    "max = 0\n",
    "\n",
    "for num in nums:\n",
    "    if num > max:\n",
    "        max = num\n",
    "        print(max)\n"
   ]
  },
  {
   "cell_type": "code",
   "execution_count": null,
   "metadata": {},
   "outputs": [],
   "source": []
  },
  {
   "cell_type": "code",
   "execution_count": 28,
   "metadata": {},
   "outputs": [
    {
     "name": "stdout",
     "output_type": "stream",
     "text": [
      "100\n"
     ]
    }
   ],
   "source": [
    "num=[100,105,99,25,54,10,45]\n",
    "first=0\n",
    "second=0\n",
    "\n",
    "n=len(num)\n",
    "for i in range(0,n):\n",
    "    if num[i]>first:\n",
    "        second=first\n",
    "        first=num[i]\n",
    "    elif num[i]>second and num[i]!=first:\n",
    "        second=num[i]\n",
    "        \n",
    "print(second)\n"
   ]
  },
  {
   "cell_type": "code",
   "execution_count": null,
   "metadata": {},
   "outputs": [],
   "source": []
  }
 ],
 "metadata": {
  "kernelspec": {
   "display_name": "Python 3",
   "language": "python",
   "name": "python3"
  },
  "language_info": {
   "codemirror_mode": {
    "name": "ipython",
    "version": 3
   },
   "file_extension": ".py",
   "mimetype": "text/x-python",
   "name": "python",
   "nbconvert_exporter": "python",
   "pygments_lexer": "ipython3",
   "version": "3.7.6"
  }
 },
 "nbformat": 4,
 "nbformat_minor": 4
}
