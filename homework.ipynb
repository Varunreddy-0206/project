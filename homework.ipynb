{
 "cells": [
  {
   "cell_type": "code",
   "execution_count": 8,
   "metadata": {},
   "outputs": [
    {
     "name": "stdout",
     "output_type": "stream",
     "text": [
      "enter the values2\n",
      "enter the values2\n",
      "Square\n",
      "4\n"
     ]
    }
   ],
   "source": [
    "length = int(input(\"enter the values\"))\n",
    "breadth = int(input(\"enter the values\"))\n",
    "\n",
    "if length == breadth:\n",
    "    print(\"Square\")\n",
    "else:\n",
    "    print(\"Rectangle\")\n",
    "area = length * breadth\n",
    "print(area)"
   ]
  },
  {
   "cell_type": "code",
   "execution_count": 10,
   "metadata": {},
   "outputs": [
    {
     "name": "stdout",
     "output_type": "stream",
     "text": [
      "enter the values4\n",
      "Area of Circle: 50.24\n"
     ]
    }
   ],
   "source": [
    "radius = int(input(\"enter the values\"))\n",
    "PI = 3.14\n",
    "area = PI * radius ** 2\n",
    "print(\"Area of Circle:\", area)"
   ]
  },
  {
   "cell_type": "code",
   "execution_count": 11,
   "metadata": {},
   "outputs": [
    {
     "name": "stdout",
     "output_type": "stream",
     "text": [
      "enter the values6\n",
      "Value of N: 6\n",
      "Computed value of n+nn+nnn: 738\n"
     ]
    }
   ],
   "source": [
    "n = int(input(\"enter the values\"))\n",
    "value = n * (1 + 11 + 111)\n",
    "print(\"Value of N:\", n)\n",
    "print(\"Computed value of n+nn+nnn:\", value)"
   ]
  },
  {
   "cell_type": "code",
   "execution_count": 13,
   "metadata": {},
   "outputs": [
    {
     "name": "stdout",
     "output_type": "stream",
     "text": [
      "enter the values12\n",
      "NetSalary after pf deduction: 10.56\n"
     ]
    }
   ],
   "source": [
    "salary = int(input(\"enter the values\"))\n",
    "year_of_service = 2\n",
    "\n",
    "if year_of_service < 5:\n",
    "    pf_percent = 12\n",
    "else:\n",
    "    pf_percent = 24\n",
    "    \n",
    "net_salary = salary * ( 1 - pf_percent / 100)\n",
    "print(\"NetSalary after pf deduction:\", net_salary)"
   ]
  },
  {
   "cell_type": "code",
   "execution_count": 15,
   "metadata": {},
   "outputs": [
    {
     "name": "stdout",
     "output_type": "stream",
     "text": [
      "marks120\n",
      "marks230\n",
      "marks340\n",
      "marks450\n",
      "marks570\n",
      "c\n"
     ]
    }
   ],
   "source": [
    "##A school has following rules for grading system: a. Below 40 - F b. 40 to 50 - C c. 50 to 60 - C+ d. 60 to 70 - B e. 70 to 80 - B+ f. 80 to 90 - A g. Above 90 - A+ Ask user to enter marks for their 5 main subject and print the corresponding grade and overall grade for average of marks.\n",
    "marks1=int(input(\"marks1\"))\n",
    "marks2=int(input(\"marks2\"))\n",
    "marks3=int(input(\"marks3\"))\n",
    "marks4=int(input(\"marks4\"))\n",
    "marks5=int(input(\"marks5\"))\n",
    "per=(marks1+marks2+marks3+marks4+marks5)/5\n",
    "if per<40:\n",
    "    print(\"f\")\n",
    "elif per in range(40,50):\n",
    "    print(\"c\")\n",
    "elif per in range(50,60):\n",
    "    print(\"c+\")\n",
    "elif per in range(60,70):\n",
    "    print(\"b\")\n",
    "elif per in range(70,80):\n",
    "    print(\"b+\")\n",
    "elif per in range(80,90):\n",
    "    print(\"a\")\n",
    "else:print(\"a+\")\n"
   ]
  },
  {
   "cell_type": "code",
   "execution_count": null,
   "metadata": {},
   "outputs": [],
   "source": [
    "number_of_classes_attended = 50\n",
    "number_of_classes_held = 100\n",
    "medical_cause = \"N\"\n",
    "\n",
    "attendence_percent = number_of_classes_attended / number_of_classes_held * 100\n",
    "print(\"Attendence Percentage:\", attendence_percent)\n",
    "\n",
    "if attendence_percent >= 75:\n",
    "    print(\"Eligible to sit in Exam\")\n",
    "elif medical_cause == \"Y\" and attendence_percent >= 60:\n",
    "    print(\"Due to medical emergency : Allowed to sit in Exam even afer attendance percent is less than 75\")\n",
    "else:\n",
    "    print(\"Not Eligible to sit in Exam\")"
   ]
  },
  {
   "cell_type": "code",
   "execution_count": 17,
   "metadata": {},
   "outputs": [
    {
     "name": "stdout",
     "output_type": "stream",
     "text": [
      "year1900\n",
      "Not Leap Year\n"
     ]
    }
   ],
   "source": [
    "year = int(input(\"year\"))\n",
    "\n",
    "if year % 4 == 0:\n",
    "    if year % 100 == 0:\n",
    "        if year % 400 == 0:\n",
    "            print(\"Leap Year\")\n",
    "        else:\n",
    "            print(\"Not Leap Year\")\n",
    "    else:\n",
    "        print(\"Leap Year\")\n",
    "else:\n",
    "    print(\"Not a leap year\")"
   ]
  },
  {
   "cell_type": "code",
   "execution_count": 20,
   "metadata": {},
   "outputs": [
    {
     "name": "stdout",
     "output_type": "stream",
     "text": [
      "enter the age25\n",
      "enter the genderM\n",
      "enter the statusN\n",
      "Bachelor Male employee can work anywhere\n"
     ]
    }
   ],
   "source": [
    "age = int(input(\"enter the age\"))\n",
    "gender = input(\"enter the gender\")\n",
    "marital_status = input(\"enter the status\")\n",
    "\n",
    "if(age >= 20 and age <= 30):\n",
    "    if gender == \"F\" and marital_status == \"Y\" :\n",
    "        print(\"Female Employee will work in Husband's city\")\n",
    "    elif gender == \"F\":\n",
    "        print(\"Female Employee will work only in urban areas\")\n",
    "    elif gender == \"M\" and marital_status == \"Y\":\n",
    "        print(\"Male married employee will work in nearby Hometown\")\n",
    "    else:\n",
    "        print(\"Bachelor Male employee can work anywhere\")\n",
    "else:\n",
    "    print(\"ERROR\")"
   ]
  },
  {
   "cell_type": "code",
   "execution_count": 24,
   "metadata": {},
   "outputs": [
    {
     "name": "stdout",
     "output_type": "stream",
     "text": [
      "enter the value1234\n",
      "Reverse:  4321\n"
     ]
    }
   ],
   "source": [
    "number = int(input(\"enter the value\"))\n",
    "reverse = 0\n",
    "if(number < 0):\n",
    "    print(\"Number is invalid\")\n",
    "else:\n",
    "    if(number):\n",
    "        last_digit = number % 10\n",
    "        reverse = reverse * 10 + last_digit\n",
    "        number = number // 10\n",
    "    \n",
    "    if(number):\n",
    "        last_digit = number % 10\n",
    "        reverse = reverse * 10 + last_digit\n",
    "        number = number // 10\n",
    "        \n",
    "    if(number):\n",
    "        last_digit = number % 10\n",
    "        reverse = reverse * 10 + last_digit\n",
    "        number = number // 10\n",
    "    \n",
    "    if(number):\n",
    "        last_digit = number % 10\n",
    "        reverse = reverse * 10 + last_digit\n",
    "        number = number // 10\n",
    "\n",
    "print(\"Reverse: \", reverse);"
   ]
  },
  {
   "cell_type": "code",
   "execution_count": 26,
   "metadata": {},
   "outputs": [
    {
     "name": "stdout",
     "output_type": "stream",
     "text": [
      "enter the values1200\n",
      "Sum of digits 3\n"
     ]
    }
   ],
   "source": [
    "number = int(input(\"enter the values\"))\n",
    "sum = 0\n",
    "if(number < 10):\n",
    "    sum = number\n",
    "else:\n",
    "    if(number):\n",
    "        last_digit = number % 10\n",
    "        number //= 10\n",
    "        sum += last_digit\n",
    "        \n",
    "    if(number):\n",
    "        last_digit = number % 10\n",
    "        number //= 10\n",
    "        sum += last_digit\n",
    "        \n",
    "    if(number):\n",
    "        last_digit = number % 10\n",
    "        number //= 10\n",
    "        sum += last_digit\n",
    "    \n",
    "    if(number):\n",
    "        last_digit = number % 10\n",
    "        number //= 10\n",
    "        sum += last_digit\n",
    "    \n",
    "    if(number):\n",
    "        last_digit = number % 10\n",
    "        number //= 10\n",
    "        sum += last_digit\n",
    "\n",
    "if(sum >= 10):\n",
    "    last_digit = sum % 10\n",
    "    sum = sum // 10 + last_digit\n",
    " \n",
    "print(\"Sum of digits\", sum)"
   ]
  },
  {
   "cell_type": "code",
   "execution_count": 27,
   "metadata": {},
   "outputs": [
    {
     "name": "stdout",
     "output_type": "stream",
     "text": [
      "243\n"
     ]
    }
   ],
   "source": [
    "months = {1:31,2:28,3:31,4:30,5:31,6:30,7:31,8:31,9:30,10:31,11:30,12:31}\n",
    "day1 = 31\n",
    "month1 = 1\n",
    "year1 = 1997\n",
    "\n",
    "day2 = 1\n",
    "month2 = 10\n",
    "year2 = 1997\n",
    "\n",
    "days = 0\n",
    "if(year2 - year1 == 0):\n",
    "    if(month2 - month1 > 0):\n",
    "        i = month1\n",
    "        while i < month2:\n",
    "            days += months[i]\n",
    "            i += 1\n",
    "        days += day2 - day1\n",
    "\n",
    "elif(year2 - year1 > 0):\n",
    "    days = (year2 - year1) * 365\n",
    "    if(month2 - month1 > 0):\n",
    "        i = month1\n",
    "        while i < month2:\n",
    "            days += months[i]\n",
    "            i += 1\n",
    "    elif(month2 - month1 < 0):\n",
    "        i = month2\n",
    "        while i < month1:\n",
    "            days -= months[i]\n",
    "            i += 1\n",
    "    days += day2 - day1\n",
    "\n",
    "print(days)"
   ]
  },
  {
   "cell_type": "code",
   "execution_count": 28,
   "metadata": {},
   "outputs": [
    {
     "name": "stdout",
     "output_type": "stream",
     "text": [
      "Total Cost: 1000\n",
      "Final Cost after discount: 1000\n"
     ]
    }
   ],
   "source": [
    "quantity = 10\n",
    "UNITCOST = 100\n",
    "DISCOUNT_PERCENT = 10\n",
    "MAX_DISCOUNT = 100\n",
    "discount = 0\n",
    "total_cost = quantity * UNITCOST\n",
    "\n",
    "if total_cost > 1000:\n",
    "    discount = total_cost * DISCOUNT_PERCENT / 100\n",
    "    if discount > 100:\n",
    "        discount = MAX_DISCOUNT\n",
    "\n",
    "final_cost = total_cost - discount\n",
    "print(\"Total Cost:\", total_cost)\n",
    "print(\"Final Cost after discount:\", final_cost)"
   ]
  },
  {
   "cell_type": "code",
   "execution_count": null,
   "metadata": {},
   "outputs": [],
   "source": [
    "\n"
   ]
  },
  {
   "cell_type": "code",
   "execution_count": null,
   "metadata": {},
   "outputs": [],
   "source": []
  },
  {
   "cell_type": "code",
   "execution_count": null,
   "metadata": {},
   "outputs": [],
   "source": []
  }
 ],
 "metadata": {
  "kernelspec": {
   "display_name": "Python 3",
   "language": "python",
   "name": "python3"
  },
  "language_info": {
   "codemirror_mode": {
    "name": "ipython",
    "version": 3
   },
   "file_extension": ".py",
   "mimetype": "text/x-python",
   "name": "python",
   "nbconvert_exporter": "python",
   "pygments_lexer": "ipython3",
   "version": "3.7.6"
  }
 },
 "nbformat": 4,
 "nbformat_minor": 4
}
